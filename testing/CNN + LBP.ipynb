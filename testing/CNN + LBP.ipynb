{
 "cells": [
  {
   "cell_type": "code",
   "execution_count": 1,
   "metadata": {},
   "outputs": [],
   "source": [
    "\n",
    "\n",
    "# Pre-processing\n",
    "from skimage.feature import local_binary_pattern\n",
    "from skimage import io\n",
    "from PIL import Image\n",
    "from skimage.color import label2rgb\n",
    "\n",
    "# model\n",
    "import numpy as np\n",
    "import matplotlib.pyplot as plt\n",
    "import keras\n",
    "from keras.layers import *\n",
    "from keras.models import *\n",
    "from keras.preprocessing import image\n"
   ]
  },
  {
   "cell_type": "markdown",
   "metadata": {},
   "source": [
    "## Pre-processing images"
   ]
  },
  {
   "cell_type": "code",
   "execution_count": 2,
   "metadata": {},
   "outputs": [],
   "source": [
    "\n",
    "\n",
    "\n",
    "def overlay_labels(image, lbp, labels):\n",
    "    mask = np.logical_or.reduce([lbp == each for each in labels])\n",
    "    return label2rgb(mask, image=image, bg_label=0, alpha=0.5)\n",
    "\n",
    "\n",
    "def flat_local_binary_pattern(image):\n",
    "    image = image * 255\n",
    "    image = image.astype(np.uint8) \n",
    "    image = Image.fromarray(image)\n",
    "\n",
    "    image = image.convert(\"L\")\n",
    "\n",
    "\n",
    "    METHOD = 'uniform'\n",
    "    # settings for LBP\n",
    "    radius = 3\n",
    "    n_points = 8 * radius\n",
    "\n",
    "    w = width = radius - 1\n",
    "\n",
    "    lbp = local_binary_pattern(image, n_points, radius, METHOD)\n",
    "    flat_labels = list(range(0, w + 1)) + list(range(n_points - w, n_points + 2))\n",
    "    # io.imshow(lbp)\n",
    "    lbp_image = overlay_labels(np.array(image), lbp, flat_labels)\n",
    "    \n",
    "    return np.array(lbp_image)"
   ]
  },
  {
   "cell_type": "code",
   "execution_count": 3,
   "metadata": {},
   "outputs": [],
   "source": [
    "# I think we have enought images, if not we do image augmentation\n",
    "train_datagen = image.ImageDataGenerator(\n",
    "    preprocessing_function=flat_local_binary_pattern,\n",
    "    rescale = 1./255,\n",
    "    # shear_range = 0.2\n",
    "    # zoom_range = 0.2\n",
    "    # horizontal_flip = True,\n",
    "\n",
    ")\n",
    "test_dataset = image.ImageDataGenerator(\n",
    "    preprocessing_function=flat_local_binary_pattern,\n",
    "    rescale=1/255,\n",
    ")"
   ]
  },
  {
   "cell_type": "code",
   "execution_count": 4,
   "metadata": {},
   "outputs": [
    {
     "name": "stdout",
     "output_type": "stream",
     "text": [
      "Found 19486 images belonging to 2 classes.\n",
      "Found 9599 images belonging to 2 classes.\n"
     ]
    }
   ],
   "source": [
    "train_generator = train_datagen.flow_from_directory(\n",
    "    'data\\\\train\\\\',\n",
    "    target_size = (224, 224),\n",
    "    batch_size = 32,\n",
    "    class_mode = 'binary'\n",
    "    )\n",
    "\n",
    "test_generator = test_dataset.flow_from_directory(\n",
    "    'data\\\\test\\\\',\n",
    "    target_size = (224, 224),\n",
    "    batch_size = 32,\n",
    "    class_mode = 'binary'\n",
    "    )"
   ]
  },
  {
   "cell_type": "code",
   "execution_count": 5,
   "metadata": {},
   "outputs": [
    {
     "data": {
      "text/plain": [
       "{'live': 0, 'spoof': 1}"
      ]
     },
     "execution_count": 5,
     "metadata": {},
     "output_type": "execute_result"
    }
   ],
   "source": [
    "train_generator.class_indices"
   ]
  },
  {
   "cell_type": "markdown",
   "metadata": {},
   "source": [
    "## Model "
   ]
  },
  {
   "cell_type": "code",
   "execution_count": 6,
   "metadata": {},
   "outputs": [
    {
     "name": "stdout",
     "output_type": "stream",
     "text": [
      "Model: \"sequential\"\n",
      "_________________________________________________________________\n",
      " Layer (type)                Output Shape              Param #   \n",
      "=================================================================\n",
      " conv2d (Conv2D)             (None, 222, 222, 32)      896       \n",
      "                                                                 \n",
      " conv2d_1 (Conv2D)           (None, 220, 220, 64)      18496     \n",
      "                                                                 \n",
      " max_pooling2d (MaxPooling2D  (None, 110, 110, 64)     0         \n",
      " )                                                               \n",
      "                                                                 \n",
      " dropout (Dropout)           (None, 110, 110, 64)      0         \n",
      "                                                                 \n",
      " conv2d_2 (Conv2D)           (None, 108, 108, 64)      36928     \n",
      "                                                                 \n",
      " max_pooling2d_1 (MaxPooling  (None, 54, 54, 64)       0         \n",
      " 2D)                                                             \n",
      "                                                                 \n",
      " dropout_1 (Dropout)         (None, 54, 54, 64)        0         \n",
      "                                                                 \n",
      " flatten (Flatten)           (None, 186624)            0         \n",
      "                                                                 \n",
      " dense (Dense)               (None, 64)                11944000  \n",
      "                                                                 \n",
      " dropout_2 (Dropout)         (None, 64)                0         \n",
      "                                                                 \n",
      " dense_1 (Dense)             (None, 1)                 65        \n",
      "                                                                 \n",
      "=================================================================\n",
      "Total params: 12,000,385\n",
      "Trainable params: 12,000,385\n",
      "Non-trainable params: 0\n",
      "_________________________________________________________________\n"
     ]
    }
   ],
   "source": [
    "# Using as a base model\n",
    "# https://medium.com/@mayankverma05032001/binary-classification-using-convolution-neural-network-cnn-model-6e35cdf5bdbb\n",
    "\n",
    "model = Sequential()\n",
    "model.add(Conv2D(32, kernel_size=(3,3),activation='ReLU', input_shape=(224,224, 3))) # Need to check the mean size of the pictures for better performance\n",
    "\n",
    "model.add(Conv2D(64,(3,3), activation='ReLU'))\n",
    "model.add(MaxPooling2D(pool_size=(2,2)))\n",
    "model.add(Dropout(0.25))\n",
    "\n",
    "model.add(Conv2D(64,(3,3), activation='ReLU'))\n",
    "model.add(MaxPooling2D(pool_size=(2,2)))\n",
    "model.add(Dropout(0.25))\n",
    "\n",
    "model.add(Flatten())\n",
    "model.add(Dense(64,activation='ReLU'))\n",
    "model.add(Dropout(0.5))\n",
    "model.add(Dense(1,activation='sigmoid'))\n",
    "\n",
    "model.compile(loss=keras.losses.binary_crossentropy, optimizer='adam', metrics=['accuracy'])\n",
    "model.summary()"
   ]
  },
  {
   "cell_type": "code",
   "execution_count": 7,
   "metadata": {},
   "outputs": [
    {
     "name": "stdout",
     "output_type": "stream",
     "text": [
      "Epoch 1/10\n",
      "10/10 [==============================] - 119s 11s/step - loss: 0.7528 - accuracy: 0.6375 - val_loss: 0.6921 - val_accuracy: 0.6250\n",
      "Epoch 2/10\n",
      "10/10 [==============================] - 120s 12s/step - loss: 0.6901 - accuracy: 0.6969 - val_loss: 0.6874 - val_accuracy: 0.7188\n",
      "Epoch 3/10\n",
      "10/10 [==============================] - 145s 15s/step - loss: 0.6857 - accuracy: 0.6969 - val_loss: 0.6833 - val_accuracy: 0.6875\n",
      "Epoch 4/10\n",
      "10/10 [==============================] - 109s 10s/step - loss: 0.6819 - accuracy: 0.6719 - val_loss: 0.6914 - val_accuracy: 0.5312\n",
      "Epoch 5/10\n",
      "10/10 [==============================] - 61s 6s/step - loss: 0.6816 - accuracy: 0.6219 - val_loss: 0.6809 - val_accuracy: 0.6250\n",
      "Epoch 6/10\n",
      "10/10 [==============================] - 61s 6s/step - loss: 0.6795 - accuracy: 0.6438 - val_loss: 0.6745 - val_accuracy: 0.6562\n",
      "Epoch 7/10\n",
      "10/10 [==============================] - 60s 6s/step - loss: 0.6778 - accuracy: 0.6281 - val_loss: 0.6695 - val_accuracy: 0.6719\n",
      "Epoch 8/10\n",
      "10/10 [==============================] - 60s 6s/step - loss: 0.6731 - accuracy: 0.6500 - val_loss: 0.6610 - val_accuracy: 0.7031\n",
      "Epoch 9/10\n",
      "10/10 [==============================] - 60s 6s/step - loss: 0.6673 - accuracy: 0.6656 - val_loss: 0.6602 - val_accuracy: 0.6875\n",
      "Epoch 10/10\n",
      "10/10 [==============================] - 47s 5s/step - loss: 0.6711 - accuracy: 0.6344 - val_loss: 0.6925 - val_accuracy: 0.5312\n"
     ]
    }
   ],
   "source": [
    "steps = train_generator.samples / train_generator.batch_size\n",
    "steps = round(steps)\n",
    "\n",
    "history = model.fit(\n",
    "    train_generator,\n",
    "    steps_per_epoch = 10,#steps,\n",
    "    epochs = 10,\n",
    "    validation_data = train_generator,\n",
    "    validation_steps = 2\n",
    ")"
   ]
  },
  {
   "cell_type": "code",
   "execution_count": 8,
   "metadata": {},
   "outputs": [
    {
     "data": {
      "image/png": "[encoded data removed]",
      "text/plain": [
       "<Figure size 640x480 with 1 Axes>"
      ]
     },
     "metadata": {},
     "output_type": "display_data"
    }
   ],
   "source": [
    "#Vamos ver como foi o treino?\n",
    "import matplotlib.pyplot as plt\n",
    "\n",
    "plt.plot(history.history['loss'], color='b', label=\"Training loss\")\n",
    "legend = plt.legend(loc='best', shadow=True)"
   ]
  },
  {
   "cell_type": "code",
   "execution_count": 9,
   "metadata": {},
   "outputs": [
    {
     "name": "stdout",
     "output_type": "stream",
     "text": [
      "300/300 [==============================] - 1083s 4s/step - loss: 0.6579 - accuracy: 0.6828\n"
     ]
    },
    {
     "data": {
      "text/plain": [
       "[0.6579161286354065, 0.6827794313430786]"
      ]
     },
     "execution_count": 9,
     "metadata": {},
     "output_type": "execute_result"
    }
   ],
   "source": [
    "model.evaluate(test_generator)"
   ]
  },
  {
   "cell_type": "code",
   "execution_count": null,
   "metadata": {},
   "outputs": [],
   "source": []
  }
 ],
 "metadata": {
  "kernelspec": {
   "display_name": "base",
   "language": "python",
   "name": "python3"
  },
  "language_info": {
   "codemirror_mode": {
    "name": "ipython",
    "version": 3
   },
   "file_extension": ".py",
   "mimetype": "text/x-python",
   "name": "python",
   "nbconvert_exporter": "python",
   "pygments_lexer": "ipython3",
   "version": "3.9.13"
  },
  "orig_nbformat": 4
 },
 "nbformat": 4,
 "nbformat_minor": 2
}
