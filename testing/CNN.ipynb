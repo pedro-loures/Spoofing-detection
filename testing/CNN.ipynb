{
 "cells": [
  {
   "cell_type": "code",
   "execution_count": 44,
   "metadata": {},
   "outputs": [],
   "source": [
    "# Data processing\n",
    "import utils as ut\n",
    "import json\n",
    "import os \n",
    "\n",
    "# Training and validation\n",
    "from sklearn.model_selection import train_test_split\n",
    "\n",
    "# Pre-processing\n",
    "from PIL import Image\n",
    "\n",
    "# model\n",
    "import numpy as np\n",
    "import matplotlib.pyplot as plt\n",
    "import keras\n",
    "from keras.layers import *\n",
    "from keras.models import *\n",
    "from keras.preprocessing import image\n"
   ]
  },
  {
   "cell_type": "markdown",
   "metadata": {},
   "source": [
    "## Pre Processing images"
   ]
  },
  {
   "cell_type": "code",
   "execution_count": 45,
   "metadata": {},
   "outputs": [],
   "source": [
    "# I think we have enought images, if not we do image augmentation\n",
    "train_datagen = image.ImageDataGenerator(\n",
    "    rescale = 1./255,\n",
    "    shear_range = 0.2,\n",
    "    zoom_range = 0.2,\n",
    "    horizontal_flip = True,\n",
    ")\n",
    "test_dataset = image.ImageDataGenerator(rescale=1/255)"
   ]
  },
  {
   "cell_type": "code",
   "execution_count": 46,
   "metadata": {},
   "outputs": [
    {
     "name": "stdout",
     "output_type": "stream",
     "text": [
      "Found 19486 images belonging to 2 classes.\n",
      "Found 9599 images belonging to 2 classes.\n"
     ]
    }
   ],
   "source": [
    "train_generator = train_datagen.flow_from_directory(\n",
    "    'data\\\\train\\\\',\n",
    "    target_size = (224, 224),\n",
    "    batch_size = 32,\n",
    "    class_mode = 'binary'\n",
    "    )\n",
    "\n",
    "test_generator = test_dataset.flow_from_directory(\n",
    "    'data\\\\test\\\\',\n",
    "    target_size = (224, 224),\n",
    "    batch_size = 32,\n",
    "    class_mode = 'binary'\n",
    "    )"
   ]
  },
  {
   "cell_type": "code",
   "execution_count": 47,
   "metadata": {},
   "outputs": [
    {
     "data": {
      "text/plain": [
       "{'live': 0, 'spoof': 1}"
      ]
     },
     "execution_count": 47,
     "metadata": {},
     "output_type": "execute_result"
    }
   ],
   "source": [
    "train_generator.class_indices"
   ]
  },
  {
   "cell_type": "markdown",
   "metadata": {},
   "source": [
    "## Model "
   ]
  },
  {
   "cell_type": "code",
   "execution_count": 48,
   "metadata": {},
   "outputs": [
    {
     "name": "stdout",
     "output_type": "stream",
     "text": [
      "Model: \"sequential_2\"\n",
      "_________________________________________________________________\n",
      " Layer (type)                Output Shape              Param #   \n",
      "=================================================================\n",
      " conv2d_6 (Conv2D)           (None, 222, 222, 32)      896       \n",
      "                                                                 \n",
      " conv2d_7 (Conv2D)           (None, 220, 220, 64)      18496     \n",
      "                                                                 \n",
      " max_pooling2d_4 (MaxPooling  (None, 110, 110, 64)     0         \n",
      " 2D)                                                             \n",
      "                                                                 \n",
      " dropout_6 (Dropout)         (None, 110, 110, 64)      0         \n",
      "                                                                 \n",
      " conv2d_8 (Conv2D)           (None, 108, 108, 64)      36928     \n",
      "                                                                 \n",
      " max_pooling2d_5 (MaxPooling  (None, 54, 54, 64)       0         \n",
      " 2D)                                                             \n",
      "                                                                 \n",
      " dropout_7 (Dropout)         (None, 54, 54, 64)        0         \n",
      "                                                                 \n",
      " flatten_2 (Flatten)         (None, 186624)            0         \n",
      "                                                                 \n",
      " dense_4 (Dense)             (None, 64)                11944000  \n",
      "                                                                 \n",
      " dropout_8 (Dropout)         (None, 64)                0         \n",
      "                                                                 \n",
      " dense_5 (Dense)             (None, 1)                 65        \n",
      "                                                                 \n",
      "=================================================================\n",
      "Total params: 12,000,385\n",
      "Trainable params: 12,000,385\n",
      "Non-trainable params: 0\n",
      "_________________________________________________________________\n"
     ]
    }
   ],
   "source": [
    "# Using as a base model\n",
    "# https://medium.com/@mayankverma05032001/binary-classification-using-convolution-neural-network-cnn-model-6e35cdf5bdbb\n",
    "\n",
    "model = Sequential()\n",
    "model.add(Conv2D(32, kernel_size=(3,3),activation='ReLU', input_shape=(224,224, 3))) # Need to check the mean size of the pictures for better performance\n",
    "\n",
    "model.add(Conv2D(64,(3,3), activation='ReLU'))\n",
    "model.add(MaxPooling2D(pool_size=(2,2)))\n",
    "model.add(Dropout(0.25))\n",
    "\n",
    "model.add(Conv2D(64,(3,3), activation='ReLU'))\n",
    "model.add(MaxPooling2D(pool_size=(2,2)))\n",
    "model.add(Dropout(0.25))\n",
    "\n",
    "model.add(Flatten())\n",
    "model.add(Dense(64,activation='ReLU'))\n",
    "model.add(Dropout(0.5))\n",
    "model.add(Dense(1,activation='sigmoid'))\n",
    "\n",
    "model.compile(loss=keras.losses.binary_crossentropy, optimizer='adam', metrics=['accuracy'])\n",
    "model.summary()"
   ]
  },
  {
   "cell_type": "code",
   "execution_count": 49,
   "metadata": {},
   "outputs": [
    {
     "name": "stderr",
     "output_type": "stream",
     "text": [
      "C:\\Users\\PLour\\AppData\\Local\\Temp\\ipykernel_24628\\997868978.py:4: UserWarning: `Model.fit_generator` is deprecated and will be removed in a future version. Please use `Model.fit`, which supports generators.\n",
      "  history = model.fit_generator(\n"
     ]
    },
    {
     "name": "stdout",
     "output_type": "stream",
     "text": [
      "Epoch 1/10\n",
      "609/609 [==============================] - 1959s 3s/step - loss: 0.5553 - accuracy: 0.7320 - val_loss: 0.3313 - val_accuracy: 0.8750\n",
      "Epoch 2/10\n",
      "609/609 [==============================] - 2112s 3s/step - loss: 0.3882 - accuracy: 0.8302 - val_loss: 0.2877 - val_accuracy: 0.8750\n",
      "Epoch 3/10\n",
      "609/609 [==============================] - 3314s 5s/step - loss: 0.3475 - accuracy: 0.8658 - val_loss: 0.2421 - val_accuracy: 0.9375\n",
      "Epoch 4/10\n",
      "609/609 [==============================] - 3301s 5s/step - loss: 0.3043 - accuracy: 0.8836 - val_loss: 0.2494 - val_accuracy: 0.9375\n",
      "Epoch 5/10\n",
      "609/609 [==============================] - 3369s 6s/step - loss: 0.2998 - accuracy: 0.8843 - val_loss: 0.2384 - val_accuracy: 0.9062\n",
      "Epoch 6/10\n",
      "609/609 [==============================] - 3363s 6s/step - loss: 0.2769 - accuracy: 0.8932 - val_loss: 0.1451 - val_accuracy: 0.9531\n",
      "Epoch 7/10\n",
      "609/609 [==============================] - 3124s 5s/step - loss: 0.2639 - accuracy: 0.9006 - val_loss: 0.1576 - val_accuracy: 0.9531\n",
      "Epoch 8/10\n",
      "609/609 [==============================] - 3482s 6s/step - loss: 0.2432 - accuracy: 0.9057 - val_loss: 0.3790 - val_accuracy: 0.8906\n",
      "Epoch 9/10\n",
      "609/609 [==============================] - 3477s 6s/step - loss: 0.2306 - accuracy: 0.9083 - val_loss: 0.1732 - val_accuracy: 0.8906\n",
      "Epoch 10/10\n",
      "609/609 [==============================] - 3476s 6s/step - loss: 0.2183 - accuracy: 0.9164 - val_loss: 0.1105 - val_accuracy: 0.9688\n"
     ]
    }
   ],
   "source": [
    "steps = train_generator.samples / train_generator.batch_size\n",
    "steps = round(steps)\n",
    "\n",
    "history = model.fit_generator(\n",
    "    train_generator,\n",
    "    steps_per_epoch = steps,\n",
    "    epochs = 10,\n",
    "    validation_data = train_generator,\n",
    "    validation_steps = 2\n",
    ")"
   ]
  },
  {
   "cell_type": "code",
   "execution_count": 50,
   "metadata": {},
   "outputs": [
    {
     "data": {
      "image/png": "[encoded data removed]",
      "text/plain": [
       "<Figure size 640x480 with 1 Axes>"
      ]
     },
     "metadata": {},
     "output_type": "display_data"
    }
   ],
   "source": [
    "#Vamos ver como foi o treino?\n",
    "import matplotlib.pyplot as plt\n",
    "import joblib\n",
    "\n",
    "\n",
    "plt.plot(history.history['loss'], color='b', label=\"Training loss\")\n",
    "legend = plt.legend(loc='best', shadow=True)\n",
    "\n"
   ]
  },
  {
   "cell_type": "code",
   "execution_count": 51,
   "metadata": {},
   "outputs": [
    {
     "name": "stdout",
     "output_type": "stream",
     "text": [
      "300/300 [==============================] - 809s 3s/step - loss: 0.1939 - accuracy: 0.9306\n"
     ]
    },
    {
     "data": {
      "text/plain": [
       "[0.1938888430595398, 0.9306177496910095]"
      ]
     },
     "execution_count": 51,
     "metadata": {},
     "output_type": "execute_result"
    }
   ],
   "source": [
    "model.evaluate(test_generator)"
   ]
  },
  {
   "cell_type": "code",
   "execution_count": 52,
   "metadata": {},
   "outputs": [],
   "source": [
    "# save the model to disk\n",
    "filename = 'models/CNN.keras'\n",
    "# Calling `save('my_model.keras')` creates a zip archive `my_model.keras`.\n",
    "model.save(filename)\n",
    "\n"
   ]
  },
  {
   "cell_type": "code",
   "execution_count": 53,
   "metadata": {},
   "outputs": [
    {
     "name": "stdout",
     "output_type": "stream",
     "text": [
      "300/300 [==============================] - 437s 1s/step\n",
      "300/300 [==============================] - 342s 1s/step\n",
      "\n",
      "Not equal to tolerance rtol=1e-07, atol=0\n",
      "\n",
      "Mismatched elements: 9597 / 9599 (100%)\n",
      "Max absolute difference: 0.9999995\n",
      "Max relative difference: 1.1947927e+18\n",
      " x: array([[0.999711],\n",
      "       [0.999842],\n",
      "       [0.023464],...\n",
      " y: array([[0.991273],\n",
      "       [0.783275],\n",
      "       [0.394276],...\n"
     ]
    }
   ],
   "source": [
    "# It can be used to reconstruct the model identically.\n",
    "reconstructed_model = keras.models.load_model(filename)\n",
    "\n",
    "\n",
    "try:\n",
    "    np.testing.assert_allclose(\n",
    "        model.predict(test_generator), reconstructed_model.predict(test_generator)\n",
    "    )\n",
    "except Exception as e:\n",
    "    print(e)"
   ]
  },
  {
   "cell_type": "code",
   "execution_count": null,
   "metadata": {},
   "outputs": [],
   "source": []
  }
 ],
 "metadata": {
  "kernelspec": {
   "display_name": "base",
   "language": "python",
   "name": "python3"
  },
  "language_info": {
   "codemirror_mode": {
    "name": "ipython",
    "version": 3
   },
   "file_extension": ".py",
   "mimetype": "text/x-python",
   "name": "python",
   "nbconvert_exporter": "python",
   "pygments_lexer": "ipython3",
   "version": "3.9.13"
  },
  "orig_nbformat": 4
 },
 "nbformat": 4,
 "nbformat_minor": 2
}
